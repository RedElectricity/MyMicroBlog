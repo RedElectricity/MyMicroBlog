{
 "metadata": {
  "language_info": {
   "codemirror_mode": {
    "name": "ipython",
    "version": 3
   },
   "file_extension": ".py",
   "mimetype": "text/x-python",
   "name": "python",
   "nbconvert_exporter": "python",
   "pygments_lexer": "ipython3",
   "version": "3.9.5"
  },
  "orig_nbformat": 4,
  "kernelspec": {
   "name": "python3",
   "display_name": "Python 3.9.5 64-bit"
  },
  "interpreter": {
   "hash": "b526e251eed088d1256f9297c4edc5adb693d4615bd0c6e37a9d166b9cff0fb9"
  }
 },
 "nbformat": 4,
 "nbformat_minor": 2,
 "cells": [
  {
   "cell_type": "code",
   "execution_count": null,
   "metadata": {},
   "outputs": [],
   "source": [
    "from tinydb import TinyDB, where\n",
    "\n",
    "db = TinyDB(\"database.json\")\n",
    "content = db.table(\"content\")\n",
    "\n",
    "content.insert({\"id\":2,\"content\": {\"title\":\"测试测试\",\"content\":\"测试测试\",\"id\":0,\"res\":{\"image\":[],\"video\":[]}}})"
   ]
  },
  {
   "cell_type": "code",
   "execution_count": null,
   "metadata": {},
   "outputs": [],
   "source": [
    "from tinydb import TinyDB, where\n",
    "\n",
    "db = TinyDB(\"database.json\")\n",
    "content = db.table(\"content\")\n",
    "\n",
    "result = content.all()\n",
    "result.reverse()\n",
    "print(result)"
   ]
  },
  {
   "cell_type": "code",
   "execution_count": null,
   "metadata": {},
   "outputs": [],
   "source": [
    "from tinydb import TinyDB, where\n",
    "\n",
    "db = TinyDB(\"database.json\")\n",
    "comment = db.table(\"comment\")\n",
    "\n",
    "comment.insert({\"cid\":0,\"user\":\"测试测试\",\"content\":\"测试测试\"})\n",
    "comment.insert({\"cid\":0,\"user\":\"测试测试\",\"content\":\"测试测试\"})"
   ]
  },
  {
   "cell_type": "code",
   "execution_count": null,
   "metadata": {},
   "outputs": [],
   "source": [
    "from tinydb import TinyDB, where\n",
    "\n",
    "db = TinyDB(\"database.json\")\n",
    "comment = db.table(\"comment\")\n",
    "\n",
    "comment.search(where(\"cid\") == 0)"
   ]
  },
  {
   "cell_type": "code",
   "execution_count": null,
   "metadata": {},
   "outputs": [],
   "source": [
    "from tinydb import TinyDB, where\n",
    "\n",
    "db = TinyDB(\"mymicroblog/database.json\")\n",
    "content = db.table(\"content\")\n",
    "\n",
    "content.insert({\"cid\":0,\"content\":{\"title\":\"测试测试\",\"content\":\"测试测试\",\"res\":{\"image\":[\"1.png\",\"16.png\",\"12.png\",\"13.png\",\"14.png\",\"15.png\"],\"video\":[\"1.mp4\"]}}})\n",
    "#content.insert({\"cid\":1,\"content\":{\"title\":\"456\",\"content\":\"789\",\"res\":{\"image\":[\"5.png\",\"6.jpg\",\"7.png\",\"8.png\",\"9.png\",\"11.png\",\"12.png\",\"15.png\"],\"video\":[]}}})"
   ]
  },
  {
   "cell_type": "code",
   "execution_count": null,
   "metadata": {},
   "outputs": [],
   "source": [
    "from tinydb import TinyDB, where\n",
    "\n",
    "db = TinyDB(\"mymicroblog/database.json\")\n",
    "comment = db.table(\"comment\")\n",
    "\n",
    "comment.remove(where(\"cid\") == 0)"
   ]
  },
  {
   "cell_type": "code",
   "execution_count": null,
   "metadata": {},
   "outputs": [],
   "source": []
  }
 ]
}